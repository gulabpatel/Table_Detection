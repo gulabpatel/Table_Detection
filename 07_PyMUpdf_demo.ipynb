{
  "nbformat": 4,
  "nbformat_minor": 0,
  "metadata": {
    "colab": {
      "provenance": [],
      "authorship_tag": "ABX9TyORwYZsFvAUzBsCQHOSIDv/",
      "include_colab_link": true
    },
    "kernelspec": {
      "name": "python3",
      "display_name": "Python 3"
    },
    "language_info": {
      "name": "python"
    }
  },
  "cells": [
    {
      "cell_type": "markdown",
      "metadata": {
        "id": "view-in-github",
        "colab_type": "text"
      },
      "source": [
        "<a href=\"https://colab.research.google.com/github/gulabpatel/Table_Detection/blob/main/07_PyMUpdf_demo.ipynb\" target=\"_parent\"><img src=\"https://colab.research.google.com/assets/colab-badge.svg\" alt=\"Open In Colab\"/></a>"
      ]
    },
    {
      "cell_type": "markdown",
      "source": [
        "https://medium.com/@pymupdf/table-recognition-and-extraction-with-pymupdf-54e54b40b760"
      ],
      "metadata": {
        "id": "swqfnEmiMM0u"
      }
    },
    {
      "cell_type": "code",
      "execution_count": 1,
      "metadata": {
        "colab": {
          "base_uri": "https://localhost:8080/"
        },
        "id": "ZxR6dJ4OGrrC",
        "outputId": "119059bb-268a-4f9b-9d88-ca2ecd665633"
      },
      "outputs": [
        {
          "output_type": "stream",
          "name": "stdout",
          "text": [
            "Collecting pymupdf\n",
            "  Downloading PyMuPDF-1.23.6-cp310-none-manylinux2014_x86_64.whl (4.3 MB)\n",
            "\u001b[2K     \u001b[90m━━━━━━━━━━━━━━━━━━━━━━━━━━━━━━━━━━━━━━━━\u001b[0m \u001b[32m4.3/4.3 MB\u001b[0m \u001b[31m10.0 MB/s\u001b[0m eta \u001b[36m0:00:00\u001b[0m\n",
            "\u001b[?25hCollecting PyMuPDFb==1.23.6 (from pymupdf)\n",
            "  Downloading PyMuPDFb-1.23.6-py3-none-manylinux2014_x86_64.manylinux_2_17_x86_64.whl (30.6 MB)\n",
            "\u001b[2K     \u001b[90m━━━━━━━━━━━━━━━━━━━━━━━━━━━━━━━━━━━━━━━━\u001b[0m \u001b[32m30.6/30.6 MB\u001b[0m \u001b[31m31.5 MB/s\u001b[0m eta \u001b[36m0:00:00\u001b[0m\n",
            "\u001b[?25hInstalling collected packages: PyMuPDFb, pymupdf\n",
            "Successfully installed PyMuPDFb-1.23.6 pymupdf-1.23.6\n"
          ]
        }
      ],
      "source": [
        "!pip install pymupdf"
      ]
    },
    {
      "cell_type": "code",
      "source": [
        "import fitz  # import package PyMuPDF\n",
        "\n",
        "\n",
        "# Open some document, for example a PDF (could also be EPUB, XPS, etc.)\n",
        "doc = fitz.open(\"/content/camelot_ex.pdf\")\n",
        "\n",
        "\n",
        "# Load a desired page. This works via 0-based numbers\n",
        "page = doc[0]  # this is the first page\n",
        "\n",
        "\n",
        "# Look for tables on this page and display the table count\n",
        "tabs = page.find_tables()\n",
        "print(f\"{len(tabs.tables)} table(s) on {page}\")\n"
      ],
      "metadata": {
        "colab": {
          "base_uri": "https://localhost:8080/"
        },
        "id": "L7EsWQpwG5UI",
        "outputId": "60d41191-1075-4f02-a683-55cad5ecf41c"
      },
      "execution_count": 20,
      "outputs": [
        {
          "output_type": "stream",
          "name": "stdout",
          "text": [
            "1 table(s) on page 0 of /content/camelot_ex.pdf\n"
          ]
        }
      ]
    },
    {
      "cell_type": "code",
      "source": [
        "tab = tabs[0]"
      ],
      "metadata": {
        "id": "Xx1MlZwyG5QZ"
      },
      "execution_count": 21,
      "outputs": []
    },
    {
      "cell_type": "code",
      "source": [
        "tab.bbox # bounding box of the full table"
      ],
      "metadata": {
        "colab": {
          "base_uri": "https://localhost:8080/"
        },
        "id": "3aqpfuOPG5D9",
        "outputId": "5533e555-41a2-429a-fe1c-35836a9cd626"
      },
      "execution_count": 22,
      "outputs": [
        {
          "output_type": "execute_result",
          "data": {
            "text/plain": [
              "(120.48004531860352, 558.0599670410156, 491.46006774902344, 674.5799560546875)"
            ]
          },
          "metadata": {},
          "execution_count": 22
        }
      ]
    },
    {
      "cell_type": "code",
      "source": [
        "tab.cells[0]  # top-left cell"
      ],
      "metadata": {
        "colab": {
          "base_uri": "https://localhost:8080/"
        },
        "id": "19XOhXgiG5AX",
        "outputId": "29298833-0a91-477a-e54f-e78ff56d42f6"
      },
      "execution_count": 23,
      "outputs": [
        {
          "output_type": "execute_result",
          "data": {
            "text/plain": [
              "(120.48004531860352, 558.0599670410156, 164.69984436035156, 597.0599670410156)"
            ]
          },
          "metadata": {},
          "execution_count": 23
        }
      ]
    },
    {
      "cell_type": "code",
      "source": [
        "tab.cells[-1]  # bottom-right cell"
      ],
      "metadata": {
        "colab": {
          "base_uri": "https://localhost:8080/"
        },
        "id": "rH71M-IBH6hy",
        "outputId": "35a3d983-a185-4932-91d4-c382e7cc0ee5"
      },
      "execution_count": 24,
      "outputs": [
        {
          "output_type": "execute_result",
          "data": {
            "text/plain": [
              "(430.0800323486328, 659.0399780273438, 491.46006774902344, 674.5799560546875)"
            ]
          },
          "metadata": {},
          "execution_count": 24
        }
      ]
    },
    {
      "cell_type": "code",
      "source": [
        "tab.row_count, tab.col_count  # row and column counts"
      ],
      "metadata": {
        "colab": {
          "base_uri": "https://localhost:8080/"
        },
        "id": "KvbVy5EFIGQM",
        "outputId": "1ecf1e6c-05b8-4671-9f3e-b42bf89a8a44"
      },
      "execution_count": 25,
      "outputs": [
        {
          "output_type": "execute_result",
          "data": {
            "text/plain": [
              "(7, 7)"
            ]
          },
          "metadata": {},
          "execution_count": 25
        }
      ]
    },
    {
      "cell_type": "code",
      "source": [
        "tab.page  # backreference to the page"
      ],
      "metadata": {
        "colab": {
          "base_uri": "https://localhost:8080/"
        },
        "id": "Zm_GJG30IGMo",
        "outputId": "cdc63fa2-c26a-4afc-fc64-608edf57f33c"
      },
      "execution_count": 26,
      "outputs": [
        {
          "output_type": "execute_result",
          "data": {
            "text/plain": [
              "page 0 of /content/camelot_ex.pdf"
            ]
          },
          "metadata": {},
          "execution_count": 26
        }
      ]
    },
    {
      "cell_type": "code",
      "source": [
        "for line in tab.extract():  # print cell text for each row\n",
        "    print(line)"
      ],
      "metadata": {
        "colab": {
          "base_uri": "https://localhost:8080/"
        },
        "id": "cuFitUjGIGJv",
        "outputId": "4f6a36b8-6ef0-4e9e-d49c-1a11ec18b05b"
      },
      "execution_count": 27,
      "outputs": [
        {
          "output_type": "stream",
          "name": "stdout",
          "text": [
            "['Cycle\\nName', 'KI\\n(1/km)', 'Distance\\n(mi)', 'Percent Fuel Savings', None, None, None]\n",
            "[None, None, None, 'Improved\\nSpeed', 'Decreased\\nAccel', 'Eliminate\\nStops', 'Decreased\\nIdle']\n",
            "['2012_2', '3.30', '1.3', '5.9%', '9.5%', '29.2%', '17.4%']\n",
            "['2145_1', '0.68', '11.2', '2.4%', '0.1%', '9.5%', '2.7%']\n",
            "['4234_1', '0.59', '58.7', '8.5%', '1.3%', '8.5%', '3.3%']\n",
            "['2032_2', '0.17', '57.8', '21.7%', '0.3%', '2.7%', '1.2%']\n",
            "['4171_1', '0.07', '173.9', '58.1%', '1.6%', '2.1%', '0.5%']\n"
          ]
        }
      ]
    },
    {
      "cell_type": "markdown",
      "source": [
        "The following information is contained in the tab.header object:"
      ],
      "metadata": {
        "id": "5nFzZJACIaA6"
      }
    },
    {
      "cell_type": "code",
      "source": [
        "header = tab.header  # table header object\n",
        "header.bbox  # header bbox"
      ],
      "metadata": {
        "colab": {
          "base_uri": "https://localhost:8080/"
        },
        "id": "ZWDq2XfMIGGa",
        "outputId": "9914f095-1bdb-4d2f-d9a6-5af65feaf390"
      },
      "execution_count": 28,
      "outputs": [
        {
          "output_type": "execute_result",
          "data": {
            "text/plain": [
              "Rect(120.48004531860352, 558.0599670410156, 491.46006774902344, 597.0599670410156)"
            ]
          },
          "metadata": {},
          "execution_count": 28
        }
      ]
    },
    {
      "cell_type": "code",
      "source": [
        "header.cells[0]  # leftmost header cell"
      ],
      "metadata": {
        "colab": {
          "base_uri": "https://localhost:8080/"
        },
        "id": "XAw8d3UiIeml",
        "outputId": "8efec63e-f625-4fd7-f34c-7da96bfc0a55"
      },
      "execution_count": 29,
      "outputs": [
        {
          "output_type": "execute_result",
          "data": {
            "text/plain": [
              "(120.48004531860352, 558.0599670410156, 164.69984436035156, 597.0599670410156)"
            ]
          },
          "metadata": {},
          "execution_count": 29
        }
      ]
    },
    {
      "cell_type": "code",
      "source": [
        "header.cells[-1]  # rightmost header cell"
      ],
      "metadata": {
        "colab": {
          "base_uri": "https://localhost:8080/"
        },
        "id": "asDPVbmyIkKL",
        "outputId": "315878ed-33a2-4ffd-89c5-d01c8b34898a"
      },
      "execution_count": 30,
      "outputs": [
        {
          "output_type": "execute_result",
          "data": {
            "text/plain": [
              "(430.0800323486328, 558.0599670410156, 491.46006774902344, 597.0599670410156)"
            ]
          },
          "metadata": {},
          "execution_count": 30
        }
      ]
    },
    {
      "cell_type": "code",
      "source": [
        "header.external  # header is part of the table itself!"
      ],
      "metadata": {
        "colab": {
          "base_uri": "https://localhost:8080/"
        },
        "id": "PCLnYRIEIkGv",
        "outputId": "10ea283c-d719-4ea4-da5d-db5aaa401417"
      },
      "execution_count": 31,
      "outputs": [
        {
          "output_type": "execute_result",
          "data": {
            "text/plain": [
              "False"
            ]
          },
          "metadata": {},
          "execution_count": 31
        }
      ]
    },
    {
      "cell_type": "code",
      "source": [
        "header.names  # these are the column names"
      ],
      "metadata": {
        "colab": {
          "base_uri": "https://localhost:8080/"
        },
        "id": "WURSmP04IkD6",
        "outputId": "3dc5d5ce-db29-4e17-fd26-a6f1110fc97e"
      },
      "execution_count": 32,
      "outputs": [
        {
          "output_type": "execute_result",
          "data": {
            "text/plain": [
              "['Cycle\\nName',\n",
              " 'KI\\n(1/km)',\n",
              " 'Distance\\n(mi)',\n",
              " 'Percent Fuel Savings',\n",
              " None,\n",
              " None,\n",
              " None]"
            ]
          },
          "metadata": {},
          "execution_count": 32
        }
      ]
    },
    {
      "cell_type": "code",
      "source": [
        "df = tab.to_pandas()  # convert to pandas DataFrame"
      ],
      "metadata": {
        "id": "OnQd7Mw6Ij-o"
      },
      "execution_count": 33,
      "outputs": []
    },
    {
      "cell_type": "code",
      "source": [
        "df.to_excel(f\"{doc.name}-{page.number}.xlsx\")"
      ],
      "metadata": {
        "id": "LEVqgLnXItb8"
      },
      "execution_count": 34,
      "outputs": []
    },
    {
      "cell_type": "code",
      "source": [],
      "metadata": {
        "id": "CKeuZ43aIwIt"
      },
      "execution_count": null,
      "outputs": []
    }
  ]
}